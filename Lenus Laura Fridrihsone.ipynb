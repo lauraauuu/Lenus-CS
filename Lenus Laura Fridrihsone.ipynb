{
 "cells": [
  {
   "cell_type": "markdown",
   "id": "7676fda4",
   "metadata": {},
   "source": [
    "# \"What are the most important factors for predicting whether a customer has converted or not?\""
   ]
  },
  {
   "cell_type": "markdown",
   "id": "212eeece",
   "metadata": {},
   "source": [
    "## Import libraries"
   ]
  },
  {
   "cell_type": "code",
   "execution_count": 212,
   "id": "a3529b82",
   "metadata": {},
   "outputs": [],
   "source": [
    "import pandas as pd               # helps to read the dataset and to do most of the data preprocessing steps\n",
    "import numpy as np                # to work with arrays\n",
    "import matplotlib.pyplot as plt   # for data visualization\n",
    "import seaborn as sns             # for data visualization\n",
    "%matplotlib inline"
   ]
  },
  {
   "cell_type": "markdown",
   "id": "f39dcc30",
   "metadata": {},
   "source": [
    "## 1. Read the data into panda dataframe"
   ]
  },
  {
   "cell_type": "code",
   "execution_count": 213,
   "id": "725fc7d4",
   "metadata": {},
   "outputs": [],
   "source": [
    "df = pd.read_csv(\"DS_customer_data_sample.csv\")"
   ]
  },
  {
   "cell_type": "code",
   "execution_count": 214,
   "id": "6e717326",
   "metadata": {},
   "outputs": [
    {
     "data": {
      "text/html": [
       "<div>\n",
       "<style scoped>\n",
       "    .dataframe tbody tr th:only-of-type {\n",
       "        vertical-align: middle;\n",
       "    }\n",
       "\n",
       "    .dataframe tbody tr th {\n",
       "        vertical-align: top;\n",
       "    }\n",
       "\n",
       "    .dataframe thead th {\n",
       "        text-align: right;\n",
       "    }\n",
       "</style>\n",
       "<table border=\"1\" class=\"dataframe\">\n",
       "  <thead>\n",
       "    <tr style=\"text-align: right;\">\n",
       "      <th></th>\n",
       "      <th>customer_id</th>\n",
       "      <th>converted</th>\n",
       "      <th>customer_segment</th>\n",
       "      <th>gender</th>\n",
       "      <th>age</th>\n",
       "      <th>related_customers</th>\n",
       "      <th>family_size</th>\n",
       "      <th>initial_fee_level</th>\n",
       "      <th>credit_account_id</th>\n",
       "      <th>branch</th>\n",
       "    </tr>\n",
       "  </thead>\n",
       "  <tbody>\n",
       "    <tr>\n",
       "      <th>0</th>\n",
       "      <td>15001</td>\n",
       "      <td>0</td>\n",
       "      <td>13</td>\n",
       "      <td>male</td>\n",
       "      <td>22.0</td>\n",
       "      <td>1</td>\n",
       "      <td>0</td>\n",
       "      <td>14.5000</td>\n",
       "      <td>9b2d5b4678781e53038e91ea5324530a03f27dc1d0e5f6...</td>\n",
       "      <td>Helsinki</td>\n",
       "    </tr>\n",
       "    <tr>\n",
       "      <th>1</th>\n",
       "      <td>15002</td>\n",
       "      <td>1</td>\n",
       "      <td>11</td>\n",
       "      <td>female</td>\n",
       "      <td>38.0</td>\n",
       "      <td>1</td>\n",
       "      <td>0</td>\n",
       "      <td>142.5666</td>\n",
       "      <td>afa2dc179e46e8456ffff9016f91396e9c6adf1fe20d17...</td>\n",
       "      <td>Tampere</td>\n",
       "    </tr>\n",
       "    <tr>\n",
       "      <th>2</th>\n",
       "      <td>15003</td>\n",
       "      <td>1</td>\n",
       "      <td>13</td>\n",
       "      <td>female</td>\n",
       "      <td>26.0</td>\n",
       "      <td>0</td>\n",
       "      <td>0</td>\n",
       "      <td>15.8500</td>\n",
       "      <td>9b2d5b4678781e53038e91ea5324530a03f27dc1d0e5f6...</td>\n",
       "      <td>Helsinki</td>\n",
       "    </tr>\n",
       "    <tr>\n",
       "      <th>3</th>\n",
       "      <td>15004</td>\n",
       "      <td>1</td>\n",
       "      <td>11</td>\n",
       "      <td>female</td>\n",
       "      <td>35.0</td>\n",
       "      <td>1</td>\n",
       "      <td>0</td>\n",
       "      <td>106.2000</td>\n",
       "      <td>abefcf257b5d2ff2816a68ec7c84ec8c11e0e0dc4f3425...</td>\n",
       "      <td>Helsinki</td>\n",
       "    </tr>\n",
       "    <tr>\n",
       "      <th>4</th>\n",
       "      <td>15005</td>\n",
       "      <td>0</td>\n",
       "      <td>13</td>\n",
       "      <td>male</td>\n",
       "      <td>35.0</td>\n",
       "      <td>0</td>\n",
       "      <td>0</td>\n",
       "      <td>16.1000</td>\n",
       "      <td>9b2d5b4678781e53038e91ea5324530a03f27dc1d0e5f6...</td>\n",
       "      <td>Helsinki</td>\n",
       "    </tr>\n",
       "  </tbody>\n",
       "</table>\n",
       "</div>"
      ],
      "text/plain": [
       "   customer_id  converted  customer_segment  gender   age  related_customers  \\\n",
       "0        15001          0                13    male  22.0                  1   \n",
       "1        15002          1                11  female  38.0                  1   \n",
       "2        15003          1                13  female  26.0                  0   \n",
       "3        15004          1                11  female  35.0                  1   \n",
       "4        15005          0                13    male  35.0                  0   \n",
       "\n",
       "   family_size  initial_fee_level  \\\n",
       "0            0            14.5000   \n",
       "1            0           142.5666   \n",
       "2            0            15.8500   \n",
       "3            0           106.2000   \n",
       "4            0            16.1000   \n",
       "\n",
       "                                   credit_account_id    branch  \n",
       "0  9b2d5b4678781e53038e91ea5324530a03f27dc1d0e5f6...  Helsinki  \n",
       "1  afa2dc179e46e8456ffff9016f91396e9c6adf1fe20d17...   Tampere  \n",
       "2  9b2d5b4678781e53038e91ea5324530a03f27dc1d0e5f6...  Helsinki  \n",
       "3  abefcf257b5d2ff2816a68ec7c84ec8c11e0e0dc4f3425...  Helsinki  \n",
       "4  9b2d5b4678781e53038e91ea5324530a03f27dc1d0e5f6...  Helsinki  "
      ]
     },
     "execution_count": 214,
     "metadata": {},
     "output_type": "execute_result"
    }
   ],
   "source": [
    "df.head()"
   ]
  },
  {
   "cell_type": "markdown",
   "id": "526d650a",
   "metadata": {},
   "source": [
    "Looking at the data, we can see that we have categorical and numerical features."
   ]
  },
  {
   "cell_type": "markdown",
   "id": "d2e0afd7",
   "metadata": {},
   "source": [
    "## 2. Exploratory Data Analysis"
   ]
  },
  {
   "cell_type": "code",
   "execution_count": 215,
   "id": "31f48c41",
   "metadata": {},
   "outputs": [
    {
     "name": "stdout",
     "output_type": "stream",
     "text": [
      "<class 'pandas.core.frame.DataFrame'>\n",
      "RangeIndex: 891 entries, 0 to 890\n",
      "Data columns (total 10 columns):\n",
      " #   Column             Non-Null Count  Dtype  \n",
      "---  ------             --------------  -----  \n",
      " 0   customer_id        891 non-null    int64  \n",
      " 1   converted          891 non-null    int64  \n",
      " 2   customer_segment   891 non-null    int64  \n",
      " 3   gender             891 non-null    object \n",
      " 4   age                714 non-null    float64\n",
      " 5   related_customers  891 non-null    int64  \n",
      " 6   family_size        891 non-null    int64  \n",
      " 7   initial_fee_level  891 non-null    float64\n",
      " 8   credit_account_id  891 non-null    object \n",
      " 9   branch             889 non-null    object \n",
      "dtypes: float64(2), int64(5), object(3)\n",
      "memory usage: 69.7+ KB\n"
     ]
    }
   ],
   "source": [
    "# See if our values are integers\n",
    "df.info()"
   ]
  },
  {
   "cell_type": "code",
   "execution_count": 216,
   "id": "b29d7791",
   "metadata": {},
   "outputs": [
    {
     "data": {
      "text/html": [
       "<div>\n",
       "<style scoped>\n",
       "    .dataframe tbody tr th:only-of-type {\n",
       "        vertical-align: middle;\n",
       "    }\n",
       "\n",
       "    .dataframe tbody tr th {\n",
       "        vertical-align: top;\n",
       "    }\n",
       "\n",
       "    .dataframe thead th {\n",
       "        text-align: right;\n",
       "    }\n",
       "</style>\n",
       "<table border=\"1\" class=\"dataframe\">\n",
       "  <thead>\n",
       "    <tr style=\"text-align: right;\">\n",
       "      <th></th>\n",
       "      <th>customer_id</th>\n",
       "      <th>converted</th>\n",
       "      <th>customer_segment</th>\n",
       "      <th>age</th>\n",
       "      <th>related_customers</th>\n",
       "      <th>family_size</th>\n",
       "      <th>initial_fee_level</th>\n",
       "    </tr>\n",
       "  </thead>\n",
       "  <tbody>\n",
       "    <tr>\n",
       "      <th>count</th>\n",
       "      <td>891.000000</td>\n",
       "      <td>891.000000</td>\n",
       "      <td>891.000000</td>\n",
       "      <td>714.000000</td>\n",
       "      <td>891.000000</td>\n",
       "      <td>891.000000</td>\n",
       "      <td>891.000000</td>\n",
       "    </tr>\n",
       "    <tr>\n",
       "      <th>mean</th>\n",
       "      <td>15446.000000</td>\n",
       "      <td>0.383838</td>\n",
       "      <td>12.308642</td>\n",
       "      <td>29.699118</td>\n",
       "      <td>0.523008</td>\n",
       "      <td>0.381594</td>\n",
       "      <td>64.408416</td>\n",
       "    </tr>\n",
       "    <tr>\n",
       "      <th>std</th>\n",
       "      <td>257.353842</td>\n",
       "      <td>0.486592</td>\n",
       "      <td>0.836071</td>\n",
       "      <td>14.526497</td>\n",
       "      <td>1.102743</td>\n",
       "      <td>0.806057</td>\n",
       "      <td>99.386857</td>\n",
       "    </tr>\n",
       "    <tr>\n",
       "      <th>min</th>\n",
       "      <td>15001.000000</td>\n",
       "      <td>0.000000</td>\n",
       "      <td>11.000000</td>\n",
       "      <td>0.420000</td>\n",
       "      <td>0.000000</td>\n",
       "      <td>0.000000</td>\n",
       "      <td>0.000000</td>\n",
       "    </tr>\n",
       "    <tr>\n",
       "      <th>25%</th>\n",
       "      <td>15223.500000</td>\n",
       "      <td>0.000000</td>\n",
       "      <td>12.000000</td>\n",
       "      <td>20.125000</td>\n",
       "      <td>0.000000</td>\n",
       "      <td>0.000000</td>\n",
       "      <td>15.820800</td>\n",
       "    </tr>\n",
       "    <tr>\n",
       "      <th>50%</th>\n",
       "      <td>15446.000000</td>\n",
       "      <td>0.000000</td>\n",
       "      <td>13.000000</td>\n",
       "      <td>28.000000</td>\n",
       "      <td>0.000000</td>\n",
       "      <td>0.000000</td>\n",
       "      <td>28.908400</td>\n",
       "    </tr>\n",
       "    <tr>\n",
       "      <th>75%</th>\n",
       "      <td>15668.500000</td>\n",
       "      <td>1.000000</td>\n",
       "      <td>13.000000</td>\n",
       "      <td>38.000000</td>\n",
       "      <td>1.000000</td>\n",
       "      <td>0.000000</td>\n",
       "      <td>62.000000</td>\n",
       "    </tr>\n",
       "    <tr>\n",
       "      <th>max</th>\n",
       "      <td>15891.000000</td>\n",
       "      <td>1.000000</td>\n",
       "      <td>13.000000</td>\n",
       "      <td>80.000000</td>\n",
       "      <td>8.000000</td>\n",
       "      <td>6.000000</td>\n",
       "      <td>1024.658400</td>\n",
       "    </tr>\n",
       "  </tbody>\n",
       "</table>\n",
       "</div>"
      ],
      "text/plain": [
       "        customer_id   converted  customer_segment         age  \\\n",
       "count    891.000000  891.000000        891.000000  714.000000   \n",
       "mean   15446.000000    0.383838         12.308642   29.699118   \n",
       "std      257.353842    0.486592          0.836071   14.526497   \n",
       "min    15001.000000    0.000000         11.000000    0.420000   \n",
       "25%    15223.500000    0.000000         12.000000   20.125000   \n",
       "50%    15446.000000    0.000000         13.000000   28.000000   \n",
       "75%    15668.500000    1.000000         13.000000   38.000000   \n",
       "max    15891.000000    1.000000         13.000000   80.000000   \n",
       "\n",
       "       related_customers  family_size  initial_fee_level  \n",
       "count         891.000000   891.000000         891.000000  \n",
       "mean            0.523008     0.381594          64.408416  \n",
       "std             1.102743     0.806057          99.386857  \n",
       "min             0.000000     0.000000           0.000000  \n",
       "25%             0.000000     0.000000          15.820800  \n",
       "50%             0.000000     0.000000          28.908400  \n",
       "75%             1.000000     0.000000          62.000000  \n",
       "max             8.000000     6.000000        1024.658400  "
      ]
     },
     "execution_count": 216,
     "metadata": {},
     "output_type": "execute_result"
    }
   ],
   "source": [
    "# The Statistical overview of our Data\n",
    "df.describe()"
   ]
  },
  {
   "cell_type": "code",
   "execution_count": 217,
   "id": "1707e7f6",
   "metadata": {},
   "outputs": [],
   "source": [
    "# We can drop customer_id and credit_account_id because it will not be usefull for our data analysis\n",
    "df.drop(['customer_id', 'credit_account_id'], axis=1, inplace=True)"
   ]
  },
  {
   "cell_type": "code",
   "execution_count": 218,
   "id": "cd897a13",
   "metadata": {},
   "outputs": [
    {
     "data": {
      "text/plain": [
       "<AxesSubplot:xlabel='converted', ylabel='count'>"
      ]
     },
     "execution_count": 218,
     "metadata": {},
     "output_type": "execute_result"
    },
    {
     "data": {
      "image/png": "[encoded data removed]",
      "text/plain": [
       "<Figure size 432x288 with 1 Axes>"
      ]
     },
     "metadata": {},
     "output_type": "display_data"
    }
   ],
   "source": [
    "# Counter of the class 'converted' to see the class proportion\n",
    "sns.set_style('whitegrid')\n",
    "sns.countplot(x='converted', data=df, palette='rocket')"
   ]
  },
  {
   "cell_type": "code",
   "execution_count": 219,
   "id": "de4c66d2",
   "metadata": {},
   "outputs": [
    {
     "data": {
      "text/plain": [
       "0    549\n",
       "1    342\n",
       "Name: converted, dtype: int64"
      ]
     },
     "execution_count": 219,
     "metadata": {},
     "output_type": "execute_result"
    }
   ],
   "source": [
    "# Value counts of our class label\n",
    "df['converted'].value_counts()"
   ]
  },
  {
   "cell_type": "markdown",
   "id": "137e151b",
   "metadata": {},
   "source": [
    "We can tell that the degree of imbalance is mild. We don't need to apply any sampling technique."
   ]
  },
  {
   "cell_type": "markdown",
   "id": "df7d8bd3",
   "metadata": {},
   "source": [
    "## Missing data\n",
    "We can get the information about the missing data by using boolean method .isnull() which returns TRUE or FALSE based on whether our values are present or not, \n",
    "and then sum() to see the toal count of missing data."
   ]
  },
  {
   "cell_type": "code",
   "execution_count": 220,
   "id": "613ad479",
   "metadata": {},
   "outputs": [
    {
     "data": {
      "text/plain": [
       "converted              0\n",
       "customer_segment       0\n",
       "gender                 0\n",
       "age                  177\n",
       "related_customers      0\n",
       "family_size            0\n",
       "initial_fee_level      0\n",
       "branch                 2\n",
       "dtype: int64"
      ]
     },
     "execution_count": 220,
     "metadata": {},
     "output_type": "execute_result"
    }
   ],
   "source": [
    "df.isnull().sum()"
   ]
  },
  {
   "cell_type": "markdown",
   "id": "5d785483",
   "metadata": {},
   "source": [
    "We can also look at the missing values by creating asimple heatmap, where the NaN values are represented in yellow"
   ]
  },
  {
   "cell_type": "code",
   "execution_count": 221,
   "id": "1dc5aed8",
   "metadata": {},
   "outputs": [
    {
     "data": {
      "text/plain": [
       "<AxesSubplot:>"
      ]
     },
     "execution_count": 221,
     "metadata": {},
     "output_type": "execute_result"
    },
    {
     "data": {
      "image/png": "[encoded data removed]",
      "text/plain": [
       "<Figure size 432x288 with 1 Axes>"
      ]
     },
     "metadata": {},
     "output_type": "display_data"
    }
   ],
   "source": [
    "sns.heatmap(df.isnull(), yticklabels=False, cbar=False, cmap='viridis')"
   ]
  },
  {
   "cell_type": "markdown",
   "id": "a40810f6",
   "metadata": {},
   "source": [
    "Roughly 25% of the 'age' data is missing. The proportion of the missing data is likely small enough for reasonable replacement with some form of imputation. Looking at the 'branch' column, it looks like we are just missing two values."
   ]
  },
  {
   "cell_type": "markdown",
   "id": "8ca6f3e3",
   "metadata": {},
   "source": [
    "### Handling missing data in the 'branch' feature"
   ]
  },
  {
   "cell_type": "code",
   "execution_count": 222,
   "id": "d4964f19",
   "metadata": {},
   "outputs": [
    {
     "data": {
      "text/plain": [
       "<AxesSubplot:>"
      ]
     },
     "execution_count": 222,
     "metadata": {},
     "output_type": "execute_result"
    },
    {
     "data": {
      "image/png": "[encoded data removed]",
      "text/plain": [
       "<Figure size 432x288 with 1 Axes>"
      ]
     },
     "metadata": {},
     "output_type": "display_data"
    }
   ],
   "source": [
    "# Visualizing the value counts of feature'branch'\n",
    "df['branch'].value_counts().plot.bar(color=['#1ABC9C','#F7DC6F','#EB984E'])"
   ]
  },
  {
   "cell_type": "code",
   "execution_count": 223,
   "id": "7ea905b9",
   "metadata": {},
   "outputs": [
    {
     "data": {
      "text/plain": [
       "Helsinki    644\n",
       "Tampere     168\n",
       "Turku        77\n",
       "Name: branch, dtype: int64"
      ]
     },
     "execution_count": 223,
     "metadata": {},
     "output_type": "execute_result"
    }
   ],
   "source": [
    "df['branch'].value_counts()"
   ]
  },
  {
   "cell_type": "markdown",
   "id": "4abbfbf8",
   "metadata": {},
   "source": [
    "We can see that the most frequent value in branch is 'Helsinki'.\n",
    "\n",
    "Now let's handle missing categorical values in feature 'branch' by replacing the NaN values with the most frequent value.\n",
    "\n",
    "##### Note: We can't delete the rows containing the missing value, because the data might be important & also we don't have a lot of data points."
   ]
  },
  {
   "cell_type": "code",
   "execution_count": 224,
   "id": "c52e1d68",
   "metadata": {},
   "outputs": [],
   "source": [
    "df['branch'].fillna('Helsinki', inplace=True)"
   ]
  },
  {
   "cell_type": "markdown",
   "id": "8fa89176",
   "metadata": {},
   "source": [
    "### Handling the missing data in age column\n",
    "#### Continue on exploratory analysis"
   ]
  },
  {
   "cell_type": "markdown",
   "id": "23bf73d5",
   "metadata": {},
   "source": [
    "From the heatmap, we can clearly see that the starongest negative correlation between the class label 'converted' is with features 'customer_segment' and 'age'\n",
    "whereas the strongest positive correlation is with the feature 'initial_fee_level'"
   ]
  },
  {
   "cell_type": "code",
   "execution_count": 225,
   "id": "f8511a6a",
   "metadata": {},
   "outputs": [
    {
     "data": {
      "text/plain": [
       "<AxesSubplot:>"
      ]
     },
     "execution_count": 225,
     "metadata": {},
     "output_type": "execute_result"
    },
    {
     "data": {
      "image/png": "[encoded data removed]",
      "text/plain": [
       "<Figure size 576x432 with 2 Axes>"
      ]
     },
     "metadata": {},
     "output_type": "display_data"
    }
   ],
   "source": [
    "corr=df.corr()\n",
    "top_features=corr.index\n",
    "plt.figure(figsize=(8,6))\n",
    "sns.heatmap(df[top_features].corr(), annot=True)"
   ]
  },
  {
   "cell_type": "markdown",
   "id": "53a30e1d",
   "metadata": {},
   "source": [
    "Based on class 'converted', let's see customer_segment to find more information about the relationship between the two"
   ]
  },
  {
   "cell_type": "code",
   "execution_count": 226,
   "id": "12730143",
   "metadata": {},
   "outputs": [
    {
     "data": {
      "text/plain": [
       "<AxesSubplot:xlabel='converted', ylabel='count'>"
      ]
     },
     "execution_count": 226,
     "metadata": {},
     "output_type": "execute_result"
    },
    {
     "data": {
      "image/png": "[encoded data removed]",
      "text/plain": [
       "<Figure size 432x288 with 1 Axes>"
      ]
     },
     "metadata": {},
     "output_type": "display_data"
    }
   ],
   "source": [
    "sns.set_style('whitegrid')\n",
    "sns.countplot(x='converted', hue='customer_segment', data=df, palette='summer')"
   ]
  },
  {
   "cell_type": "markdown",
   "id": "ea771085",
   "metadata": {},
   "source": [
    "The plot below represents the relationship between the class converted and the feature 'gender'. \n",
    "Knowing this relationship we can get an idea about what kind of replacement we can use in our case of age."
   ]
  },
  {
   "cell_type": "code",
   "execution_count": 227,
   "id": "2c8b14c3",
   "metadata": {},
   "outputs": [
    {
     "data": {
      "text/plain": [
       "<AxesSubplot:xlabel='converted', ylabel='count'>"
      ]
     },
     "execution_count": 227,
     "metadata": {},
     "output_type": "execute_result"
    },
    {
     "data": {
      "image/png": "[encoded data removed]",
      "text/plain": [
       "<Figure size 432x288 with 1 Axes>"
      ]
     },
     "metadata": {},
     "output_type": "display_data"
    }
   ],
   "source": [
    "sns.set_style('whitegrid')\n",
    "sns.countplot(x='converted', hue='gender', data=df, palette=['blue',\"pink\"])"
   ]
  },
  {
   "cell_type": "code",
   "execution_count": 228,
   "id": "9648b7a9",
   "metadata": {},
   "outputs": [
    {
     "data": {
      "text/plain": [
       "<AxesSubplot:xlabel='age', ylabel='Count'>"
      ]
     },
     "execution_count": 228,
     "metadata": {},
     "output_type": "execute_result"
    },
    {
     "data": {
      "image/png": "[encoded data removed]",
      "text/plain": [
       "<Figure size 432x288 with 1 Axes>"
      ]
     },
     "metadata": {},
     "output_type": "display_data"
    }
   ],
   "source": [
    "# Age distribution\n",
    "sns.histplot(df['age'].dropna(), kde=False, bins=30)"
   ]
  },
  {
   "cell_type": "markdown",
   "id": "640f5e75",
   "metadata": {},
   "source": [
    "We can see that age wihtout NaN values are normally distributed. \n",
    "\n",
    "The plot abow also gives us an idea of people of maximum avg of age. "
   ]
  },
  {
   "cell_type": "markdown",
   "id": "9a4520f7",
   "metadata": {},
   "source": [
    "### Data Cleaning\n",
    "We want to fill in the missing age data instead of just dropping the rows containing the missing values.\n",
    "One why to do this is by filling in the mean of the age of all the people (imputation). However we can be smarter about this and check the avg age by customer_segment."
   ]
  },
  {
   "cell_type": "code",
   "execution_count": 229,
   "id": "843fc4e2",
   "metadata": {},
   "outputs": [
    {
     "data": {
      "text/plain": [
       "<AxesSubplot:xlabel='customer_segment', ylabel='age'>"
      ]
     },
     "execution_count": 229,
     "metadata": {},
     "output_type": "execute_result"
    },
    {
     "data": {
      "image/png": "[encoded data removed]",
      "text/plain": [
       "<Figure size 864x504 with 1 Axes>"
      ]
     },
     "metadata": {},
     "output_type": "display_data"
    }
   ],
   "source": [
    "# Box-plot\n",
    "plt.figure(figsize=(12,7))\n",
    "sns.boxplot(x='customer_segment', y='age', data=df, showmeans=True, palette=\"summer\")"
   ]
  },
  {
   "cell_type": "markdown",
   "id": "f4cec4f3",
   "metadata": {},
   "source": [
    "Boxplot gives a lot of information about the age in respect to the customer_segment. For example, we can see what is the mean of the age in each customer_segment.\n",
    "\n",
    "\n",
    "The idea behind filling the missing age values: Depending on in which customer_segment the person is, we will replace the NaN age value with the mean of that particular customer_segment class."
   ]
  },
  {
   "cell_type": "code",
   "execution_count": 230,
   "id": "020f8750",
   "metadata": {},
   "outputs": [
    {
     "ename": "SyntaxError",
     "evalue": "invalid syntax (<ipython-input-230-a4a2ae7274d7>, line 8)",
     "output_type": "error",
     "traceback": [
      "\u001b[0;36m  File \u001b[0;32m\"<ipython-input-230-a4a2ae7274d7>\"\u001b[0;36m, line \u001b[0;32m8\u001b[0m\n\u001b[0;31m    elif customer_seg == 12\u001b[0m\n\u001b[0m                           ^\u001b[0m\n\u001b[0;31mSyntaxError\u001b[0m\u001b[0;31m:\u001b[0m invalid syntax\n"
     ]
    }
   ],
   "source": [
    "def impute_age(col):\n",
    "    age = col[0]\n",
    "    customer_seg = col[1]\n",
    "    \n",
    "    if pd.isnull(age):\n",
    "        if customer_seg == 11:\n",
    "            return 37           \n",
    "        elif customer_seg == 12\n",
    "            return 29\n",
    "        else:\n",
    "            return 24\n",
    "    else:\n",
    "        return age"
   ]
  },
  {
   "cell_type": "markdown",
   "id": "dd0e5860",
   "metadata": {},
   "source": [
    "Applying the function on age column. \n",
    "Final step of handling the missing data in age."
   ]
  },
  {
   "cell_type": "code",
   "execution_count": 231,
   "id": "3a24c64d",
   "metadata": {},
   "outputs": [],
   "source": [
    "df['age'] = df[['age','customer_segment']].apply(impute_age, axis=1)"
   ]
  },
  {
   "cell_type": "markdown",
   "id": "a03e4bb3",
   "metadata": {},
   "source": [
    "Now we can clearly see that we have no missing values in our data. Great!!!"
   ]
  },
  {
   "cell_type": "code",
   "execution_count": 232,
   "id": "77a0a6c4",
   "metadata": {},
   "outputs": [
    {
     "data": {
      "text/plain": [
       "<AxesSubplot:>"
      ]
     },
     "execution_count": 232,
     "metadata": {},
     "output_type": "execute_result"
    },
    {
     "data": {
      "image/png": "[encoded data removed]",
      "text/plain": [
       "<Figure size 432x288 with 1 Axes>"
      ]
     },
     "metadata": {},
     "output_type": "display_data"
    }
   ],
   "source": [
    "sns.heatmap(df.isnull(), yticklabels=False, cbar=False, cmap='viridis')"
   ]
  },
  {
   "cell_type": "markdown",
   "id": "33453572",
   "metadata": {},
   "source": [
    "#### Summary: We handled missing data with the help of statistical methods"
   ]
  },
  {
   "cell_type": "markdown",
   "id": "03c0f440",
   "metadata": {},
   "source": [
    "## 3. Label encoding"
   ]
  },
  {
   "cell_type": "markdown",
   "id": "d47c5d1b",
   "metadata": {},
   "source": [
    "We need to perform label encoding on our categorical features"
   ]
  },
  {
   "cell_type": "code",
   "execution_count": 233,
   "id": "0a7bf94c",
   "metadata": {},
   "outputs": [],
   "source": [
    "# Label enconding on \"gender\" column\n",
    "df['gender'] = np.where(df['gender']=='male',1,0)"
   ]
  },
  {
   "cell_type": "code",
   "execution_count": 234,
   "id": "d5ffe78a",
   "metadata": {},
   "outputs": [
    {
     "data": {
      "text/html": [
       "<div>\n",
       "<style scoped>\n",
       "    .dataframe tbody tr th:only-of-type {\n",
       "        vertical-align: middle;\n",
       "    }\n",
       "\n",
       "    .dataframe tbody tr th {\n",
       "        vertical-align: top;\n",
       "    }\n",
       "\n",
       "    .dataframe thead th {\n",
       "        text-align: right;\n",
       "    }\n",
       "</style>\n",
       "<table border=\"1\" class=\"dataframe\">\n",
       "  <thead>\n",
       "    <tr style=\"text-align: right;\">\n",
       "      <th></th>\n",
       "      <th>converted</th>\n",
       "      <th>customer_segment</th>\n",
       "      <th>gender</th>\n",
       "      <th>age</th>\n",
       "      <th>related_customers</th>\n",
       "      <th>family_size</th>\n",
       "      <th>initial_fee_level</th>\n",
       "      <th>branch</th>\n",
       "    </tr>\n",
       "  </thead>\n",
       "  <tbody>\n",
       "    <tr>\n",
       "      <th>0</th>\n",
       "      <td>0</td>\n",
       "      <td>13</td>\n",
       "      <td>1</td>\n",
       "      <td>22.0</td>\n",
       "      <td>1</td>\n",
       "      <td>0</td>\n",
       "      <td>14.5000</td>\n",
       "      <td>Helsinki</td>\n",
       "    </tr>\n",
       "    <tr>\n",
       "      <th>1</th>\n",
       "      <td>1</td>\n",
       "      <td>11</td>\n",
       "      <td>0</td>\n",
       "      <td>38.0</td>\n",
       "      <td>1</td>\n",
       "      <td>0</td>\n",
       "      <td>142.5666</td>\n",
       "      <td>Tampere</td>\n",
       "    </tr>\n",
       "    <tr>\n",
       "      <th>2</th>\n",
       "      <td>1</td>\n",
       "      <td>13</td>\n",
       "      <td>0</td>\n",
       "      <td>26.0</td>\n",
       "      <td>0</td>\n",
       "      <td>0</td>\n",
       "      <td>15.8500</td>\n",
       "      <td>Helsinki</td>\n",
       "    </tr>\n",
       "    <tr>\n",
       "      <th>3</th>\n",
       "      <td>1</td>\n",
       "      <td>11</td>\n",
       "      <td>0</td>\n",
       "      <td>35.0</td>\n",
       "      <td>1</td>\n",
       "      <td>0</td>\n",
       "      <td>106.2000</td>\n",
       "      <td>Helsinki</td>\n",
       "    </tr>\n",
       "    <tr>\n",
       "      <th>4</th>\n",
       "      <td>0</td>\n",
       "      <td>13</td>\n",
       "      <td>1</td>\n",
       "      <td>35.0</td>\n",
       "      <td>0</td>\n",
       "      <td>0</td>\n",
       "      <td>16.1000</td>\n",
       "      <td>Helsinki</td>\n",
       "    </tr>\n",
       "  </tbody>\n",
       "</table>\n",
       "</div>"
      ],
      "text/plain": [
       "   converted  customer_segment  gender   age  related_customers  family_size  \\\n",
       "0          0                13       1  22.0                  1            0   \n",
       "1          1                11       0  38.0                  1            0   \n",
       "2          1                13       0  26.0                  0            0   \n",
       "3          1                11       0  35.0                  1            0   \n",
       "4          0                13       1  35.0                  0            0   \n",
       "\n",
       "   initial_fee_level    branch  \n",
       "0            14.5000  Helsinki  \n",
       "1           142.5666   Tampere  \n",
       "2            15.8500  Helsinki  \n",
       "3           106.2000  Helsinki  \n",
       "4            16.1000  Helsinki  "
      ]
     },
     "execution_count": 234,
     "metadata": {},
     "output_type": "execute_result"
    }
   ],
   "source": [
    "# We should see some update\n",
    "df.head()"
   ]
  },
  {
   "cell_type": "code",
   "execution_count": 235,
   "id": "025dd545",
   "metadata": {},
   "outputs": [],
   "source": [
    "# Label encoding on branch\n",
    "ordinal_labels = {k: x for x, k in enumerate(df['branch'].unique(), 0)}\n",
    "df['branch'] = df['branch'].map(ordinal_labels)"
   ]
  },
  {
   "cell_type": "code",
   "execution_count": 236,
   "id": "a9d814f8",
   "metadata": {},
   "outputs": [
    {
     "data": {
      "text/plain": [
       "{'Helsinki': 0, 'Tampere': 1, 'Turku': 2}"
      ]
     },
     "execution_count": 236,
     "metadata": {},
     "output_type": "execute_result"
    }
   ],
   "source": [
    "ordinal_labels"
   ]
  },
  {
   "cell_type": "code",
   "execution_count": 237,
   "id": "3a4ce95f",
   "metadata": {},
   "outputs": [
    {
     "data": {
      "text/html": [
       "<div>\n",
       "<style scoped>\n",
       "    .dataframe tbody tr th:only-of-type {\n",
       "        vertical-align: middle;\n",
       "    }\n",
       "\n",
       "    .dataframe tbody tr th {\n",
       "        vertical-align: top;\n",
       "    }\n",
       "\n",
       "    .dataframe thead th {\n",
       "        text-align: right;\n",
       "    }\n",
       "</style>\n",
       "<table border=\"1\" class=\"dataframe\">\n",
       "  <thead>\n",
       "    <tr style=\"text-align: right;\">\n",
       "      <th></th>\n",
       "      <th>converted</th>\n",
       "      <th>customer_segment</th>\n",
       "      <th>gender</th>\n",
       "      <th>age</th>\n",
       "      <th>related_customers</th>\n",
       "      <th>family_size</th>\n",
       "      <th>initial_fee_level</th>\n",
       "      <th>branch</th>\n",
       "    </tr>\n",
       "  </thead>\n",
       "  <tbody>\n",
       "    <tr>\n",
       "      <th>0</th>\n",
       "      <td>0</td>\n",
       "      <td>13</td>\n",
       "      <td>1</td>\n",
       "      <td>22.0</td>\n",
       "      <td>1</td>\n",
       "      <td>0</td>\n",
       "      <td>14.5000</td>\n",
       "      <td>0</td>\n",
       "    </tr>\n",
       "    <tr>\n",
       "      <th>1</th>\n",
       "      <td>1</td>\n",
       "      <td>11</td>\n",
       "      <td>0</td>\n",
       "      <td>38.0</td>\n",
       "      <td>1</td>\n",
       "      <td>0</td>\n",
       "      <td>142.5666</td>\n",
       "      <td>1</td>\n",
       "    </tr>\n",
       "    <tr>\n",
       "      <th>2</th>\n",
       "      <td>1</td>\n",
       "      <td>13</td>\n",
       "      <td>0</td>\n",
       "      <td>26.0</td>\n",
       "      <td>0</td>\n",
       "      <td>0</td>\n",
       "      <td>15.8500</td>\n",
       "      <td>0</td>\n",
       "    </tr>\n",
       "    <tr>\n",
       "      <th>3</th>\n",
       "      <td>1</td>\n",
       "      <td>11</td>\n",
       "      <td>0</td>\n",
       "      <td>35.0</td>\n",
       "      <td>1</td>\n",
       "      <td>0</td>\n",
       "      <td>106.2000</td>\n",
       "      <td>0</td>\n",
       "    </tr>\n",
       "    <tr>\n",
       "      <th>4</th>\n",
       "      <td>0</td>\n",
       "      <td>13</td>\n",
       "      <td>1</td>\n",
       "      <td>35.0</td>\n",
       "      <td>0</td>\n",
       "      <td>0</td>\n",
       "      <td>16.1000</td>\n",
       "      <td>0</td>\n",
       "    </tr>\n",
       "  </tbody>\n",
       "</table>\n",
       "</div>"
      ],
      "text/plain": [
       "   converted  customer_segment  gender   age  related_customers  family_size  \\\n",
       "0          0                13       1  22.0                  1            0   \n",
       "1          1                11       0  38.0                  1            0   \n",
       "2          1                13       0  26.0                  0            0   \n",
       "3          1                11       0  35.0                  1            0   \n",
       "4          0                13       1  35.0                  0            0   \n",
       "\n",
       "   initial_fee_level  branch  \n",
       "0            14.5000       0  \n",
       "1           142.5666       1  \n",
       "2            15.8500       0  \n",
       "3           106.2000       0  \n",
       "4            16.1000       0  "
      ]
     },
     "execution_count": 237,
     "metadata": {},
     "output_type": "execute_result"
    }
   ],
   "source": [
    "# We should see some update\n",
    "df.head()"
   ]
  },
  {
   "cell_type": "markdown",
   "id": "ea17f7ac",
   "metadata": {},
   "source": [
    "## 4. Feature Selection"
   ]
  },
  {
   "cell_type": "markdown",
   "id": "e436d8a4",
   "metadata": {},
   "source": [
    "### Test-Treain Split"
   ]
  },
  {
   "cell_type": "code",
   "execution_count": 238,
   "id": "3758f049",
   "metadata": {},
   "outputs": [],
   "source": [
    "from sklearn.model_selection import train_test_split "
   ]
  },
  {
   "cell_type": "code",
   "execution_count": 239,
   "id": "9287fd3e",
   "metadata": {},
   "outputs": [],
   "source": [
    "# Train-Test split to avoid overfitting (data leakage)\n",
    "X_train, X_test, y_train, y_test = train_test_split(df[['customer_segment','gender','age','related_customers','family_size','initial_fee_level','branch']], df['converted'], test_size = 0.3, random_state=0)"
   ]
  },
  {
   "cell_type": "code",
   "execution_count": 240,
   "id": "04c6294e",
   "metadata": {},
   "outputs": [
    {
     "data": {
      "text/html": [
       "<div>\n",
       "<style scoped>\n",
       "    .dataframe tbody tr th:only-of-type {\n",
       "        vertical-align: middle;\n",
       "    }\n",
       "\n",
       "    .dataframe tbody tr th {\n",
       "        vertical-align: top;\n",
       "    }\n",
       "\n",
       "    .dataframe thead th {\n",
       "        text-align: right;\n",
       "    }\n",
       "</style>\n",
       "<table border=\"1\" class=\"dataframe\">\n",
       "  <thead>\n",
       "    <tr style=\"text-align: right;\">\n",
       "      <th></th>\n",
       "      <th>customer_segment</th>\n",
       "      <th>gender</th>\n",
       "      <th>age</th>\n",
       "      <th>related_customers</th>\n",
       "      <th>family_size</th>\n",
       "      <th>initial_fee_level</th>\n",
       "      <th>branch</th>\n",
       "    </tr>\n",
       "  </thead>\n",
       "  <tbody>\n",
       "    <tr>\n",
       "      <th>857</th>\n",
       "      <td>11</td>\n",
       "      <td>1</td>\n",
       "      <td>51.0</td>\n",
       "      <td>0</td>\n",
       "      <td>0</td>\n",
       "      <td>53.1000</td>\n",
       "      <td>0</td>\n",
       "    </tr>\n",
       "    <tr>\n",
       "      <th>52</th>\n",
       "      <td>11</td>\n",
       "      <td>0</td>\n",
       "      <td>49.0</td>\n",
       "      <td>1</td>\n",
       "      <td>0</td>\n",
       "      <td>153.4584</td>\n",
       "      <td>1</td>\n",
       "    </tr>\n",
       "    <tr>\n",
       "      <th>386</th>\n",
       "      <td>13</td>\n",
       "      <td>1</td>\n",
       "      <td>1.0</td>\n",
       "      <td>5</td>\n",
       "      <td>2</td>\n",
       "      <td>93.8000</td>\n",
       "      <td>0</td>\n",
       "    </tr>\n",
       "    <tr>\n",
       "      <th>124</th>\n",
       "      <td>11</td>\n",
       "      <td>1</td>\n",
       "      <td>54.0</td>\n",
       "      <td>0</td>\n",
       "      <td>1</td>\n",
       "      <td>154.5750</td>\n",
       "      <td>0</td>\n",
       "    </tr>\n",
       "    <tr>\n",
       "      <th>578</th>\n",
       "      <td>13</td>\n",
       "      <td>0</td>\n",
       "      <td>24.0</td>\n",
       "      <td>1</td>\n",
       "      <td>0</td>\n",
       "      <td>28.9166</td>\n",
       "      <td>1</td>\n",
       "    </tr>\n",
       "  </tbody>\n",
       "</table>\n",
       "</div>"
      ],
      "text/plain": [
       "     customer_segment  gender   age  related_customers  family_size  \\\n",
       "857                11       1  51.0                  0            0   \n",
       "52                 11       0  49.0                  1            0   \n",
       "386                13       1   1.0                  5            2   \n",
       "124                11       1  54.0                  0            1   \n",
       "578                13       0  24.0                  1            0   \n",
       "\n",
       "     initial_fee_level  branch  \n",
       "857            53.1000       0  \n",
       "52            153.4584       1  \n",
       "386            93.8000       0  \n",
       "124           154.5750       0  \n",
       "578            28.9166       1  "
      ]
     },
     "execution_count": 240,
     "metadata": {},
     "output_type": "execute_result"
    }
   ],
   "source": [
    "X_train.head()"
   ]
  },
  {
   "cell_type": "markdown",
   "id": "c5019f09",
   "metadata": {},
   "source": [
    "## Mutual Information"
   ]
  },
  {
   "cell_type": "markdown",
   "id": "9314312f",
   "metadata": {},
   "source": [
    "MI Estimate mutual information for discrete target variable.\n",
    "\n",
    "In short: MI measured the amount of information one can obtain from one random variable given together."
   ]
  },
  {
   "cell_type": "code",
   "execution_count": 241,
   "id": "a14889a8",
   "metadata": {},
   "outputs": [],
   "source": [
    "from sklearn.feature_selection import mutual_info_classif"
   ]
  },
  {
   "cell_type": "code",
   "execution_count": 242,
   "id": "2a7d388e",
   "metadata": {},
   "outputs": [
    {
     "data": {
      "text/plain": [
       "array([0.0732231 , 0.18662283, 0.03459749, 0.03783725, 0.02196731,\n",
       "       0.08342966, 0.0329351 ])"
      ]
     },
     "execution_count": 242,
     "metadata": {},
     "output_type": "execute_result"
    }
   ],
   "source": [
    "# to determine mutual information\n",
    "mutual_info = mutual_info_classif(X_train, y_train)\n",
    "mutual_info"
   ]
  },
  {
   "cell_type": "code",
   "execution_count": 243,
   "id": "949fa1bf",
   "metadata": {},
   "outputs": [
    {
     "data": {
      "text/plain": [
       "gender               0.186623\n",
       "initial_fee_level    0.083430\n",
       "customer_segment     0.073223\n",
       "related_customers    0.037837\n",
       "age                  0.034597\n",
       "branch               0.032935\n",
       "family_size          0.021967\n",
       "dtype: float64"
      ]
     },
     "execution_count": 243,
     "metadata": {},
     "output_type": "execute_result"
    }
   ],
   "source": [
    "# Creating a series where X_train column is assigned as the index\n",
    "mutual_info = pd.Series(mutual_info)\n",
    "mutual_info.index = X_train.columns\n",
    "mutual_info.sort_values(ascending=False)"
   ]
  },
  {
   "cell_type": "markdown",
   "id": "dd8e4c5a",
   "metadata": {},
   "source": [
    "#### Observation: The higher MI value, the more important the feature is"
   ]
  },
  {
   "cell_type": "code",
   "execution_count": 244,
   "id": "d65ed711",
   "metadata": {},
   "outputs": [
    {
     "data": {
      "text/plain": [
       "<AxesSubplot:>"
      ]
     },
     "execution_count": 244,
     "metadata": {},
     "output_type": "execute_result"
    },
    {
     "data": {
      "image/png": "[encoded data removed]",
      "text/plain": [
       "<Figure size 1440x576 with 1 Axes>"
      ]
     },
     "metadata": {},
     "output_type": "display_data"
    }
   ],
   "source": [
    "# Plot of the asceding mutual info values per feature\n",
    "mutual_info.sort_values(ascending=False).plot.bar(figsize=(20,8))"
   ]
  },
  {
   "cell_type": "markdown",
   "id": "ad96312f",
   "metadata": {},
   "source": [
    "### Select K Best features"
   ]
  },
  {
   "cell_type": "code",
   "execution_count": 245,
   "id": "5680a6d0",
   "metadata": {},
   "outputs": [],
   "source": [
    "from sklearn.feature_selection import SelectKBest"
   ]
  },
  {
   "cell_type": "code",
   "execution_count": 247,
   "id": "0f022c5c",
   "metadata": {},
   "outputs": [
    {
     "data": {
      "text/plain": [
       "Index(['customer_segment', 'gender', 'initial_fee_level'], dtype='object')"
      ]
     },
     "execution_count": 247,
     "metadata": {},
     "output_type": "execute_result"
    }
   ],
   "source": [
    "# We will select top 3 most important features\n",
    "top_3_features = SelectKBest(mutual_info_classif, k=3)\n",
    "top_3_features.fit(X_train, y_train)\n",
    "X_train.columns[top_3_features.get_support()]"
   ]
  },
  {
   "cell_type": "markdown",
   "id": "cf845323",
   "metadata": {},
   "source": [
    "# Summary: based on Mutual Information gain and SelectKBest the most important features are \n",
    "### 1. Gender\n",
    "### 2. Initial fee level\n",
    "### 3. Customer segment"
   ]
  },
  {
   "cell_type": "code",
   "execution_count": 248,
   "id": "46931bd5",
   "metadata": {},
   "outputs": [],
   "source": [
    "# Thanks and goodbye"
   ]
  }
 ],
 "metadata": {
  "kernelspec": {
   "display_name": "Python 3",
   "language": "python",
   "name": "python3"
  },
  "language_info": {
   "codemirror_mode": {
    "name": "ipython",
    "version": 3
   },
   "file_extension": ".py",
   "mimetype": "text/x-python",
   "name": "python",
   "nbconvert_exporter": "python",
   "pygments_lexer": "ipython3",
   "version": "3.8.8"
  }
 },
 "nbformat": 4,
 "nbformat_minor": 5
}
